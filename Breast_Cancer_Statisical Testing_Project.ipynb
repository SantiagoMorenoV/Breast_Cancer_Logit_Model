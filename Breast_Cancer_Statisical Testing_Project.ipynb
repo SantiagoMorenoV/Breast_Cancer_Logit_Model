{
 "cells": [
  {
   "cell_type": "markdown",
   "metadata": {},
   "source": [
    "# **Breast Cancer Statistical Testing**"
   ]
  },
  {
   "cell_type": "markdown",
   "metadata": {},
   "source": [
    "Before proceeding with logistic regression for the classification of breast cancer tumors using the [Breast Cancer Wisconsin (Original) ](https://archive.ics.uci.edu/dataset/15/breast+cancer+wisconsin+original \"Breast Cancer Wisconsin (Original) \") dataset, it is essential to perform hypothesis testing to understand the association between the features and the target variable (`Class`).\n",
    "\n",
    "In this analysis, I will use the Chi-square test to evaluate the relationship between each feature and the target variable. The hypotheses for these tests are as follows:\n",
    "\n",
    "* **Null Hypothesis (H0):** There is no association between the feature and the target variable (`Class`).\n",
    "\n",
    "* **Alternative Hypothesis (H1):** There is an association between the feature and the target variable (`Class`).\n",
    "\n",
    "By conducting these tests, I aim to identify which features have a statistically significant association with the target variable. This step is crucial as it helps in understanding the data better and ensures that the features included in the logistic regression model are relevant for predicting the class of the tumor.\n",
    "\n",
    "Given the results of the Chi-square tests, where the p-values for all features are extremely low (p < 0.05), we reject the null hypothesis for each feature. This indicates that there is a significant association between each feature and the target variable. Consequently, we proceed with logistic regression, confident that the features we are using have a meaningful relationship with the target variable.\n",
    "\n",
    "**Chi-square test references**\n",
    "\n",
    "(2008). Chi-Square Test. In: The Concise Encyclopedia of Statistics (pp. 77-79). Springer, New York, NY."
   ]
  },
  {
   "cell_type": "markdown",
   "metadata": {},
   "source": [
    "## **Importing the libraries**"
   ]
  },
  {
   "cell_type": "code",
   "execution_count": 36,
   "metadata": {},
   "outputs": [],
   "source": [
    "import pandas as pd\n",
    "import numpy as np\n",
    "from scipy.stats import chi2_contingency"
   ]
  },
  {
   "cell_type": "markdown",
   "metadata": {},
   "source": [
    "## **Importing the dataset**"
   ]
  },
  {
   "cell_type": "code",
   "execution_count": 37,
   "metadata": {},
   "outputs": [
    {
     "name": "stdout",
     "output_type": "stream",
     "text": [
      "<class 'pandas.core.frame.DataFrame'>\n",
      "RangeIndex: 699 entries, 0 to 698\n",
      "Data columns (total 11 columns):\n",
      " #   Column                       Non-Null Count  Dtype\n",
      "---  ------                       --------------  -----\n",
      " 0   Sample code number           699 non-null    int64\n",
      " 1   Clump Thickness              699 non-null    int64\n",
      " 2   Uniformity of Cell Size      699 non-null    int64\n",
      " 3   Uniformity of Cell Shape     699 non-null    int64\n",
      " 4   Marginal Adhesion            699 non-null    int64\n",
      " 5   Single Epithelial Cell Size  699 non-null    int64\n",
      " 6   Bare Nuclei                  683 non-null    Int64\n",
      " 7   Bland Chromatin              699 non-null    int64\n",
      " 8   Normal Nucleoli              699 non-null    int64\n",
      " 9   Mitoses                      699 non-null    int64\n",
      " 10  Class                        699 non-null    int64\n",
      "dtypes: Int64(1), int64(10)\n",
      "memory usage: 60.9 KB\n"
     ]
    }
   ],
   "source": [
    "# Gitbhub's repository with the dataset.\n",
    "url = \"https://raw.githubusercontent.com/SantiagoMorenoV/Breast_Cancer_Logit_Model/refs/heads/main/breast-cancer-wisconsin.data\"\n",
    "\n",
    "headers = [\n",
    "    \"Sample code number\", \"Clump Thickness\", \"Uniformity of Cell Size\", \"Uniformity of Cell Shape\", \"Marginal Adhesion\",\n",
    "    \"Single Epithelial Cell Size\", \"Bare Nuclei\", \"Bland Chromatin\", \"Normal Nucleoli\", \"Mitoses\", \"Class\"\n",
    "]\n",
    "\n",
    "data = pd.read_csv(url, header = None, names = headers)\n",
    "\n",
    "data.replace(\"?\", pd.NA, inplace=True)\n",
    "data[\"Bare Nuclei\"] = pd.to_numeric(data[\"Bare Nuclei\"]).astype('Int64')\n",
    "data.info()"
   ]
  },
  {
   "cell_type": "markdown",
   "metadata": {},
   "source": [
    "### **Missing values**"
   ]
  },
  {
   "cell_type": "code",
   "execution_count": 38,
   "metadata": {},
   "outputs": [
    {
     "name": "stdout",
     "output_type": "stream",
     "text": [
      "Sample code number: 0.00%\n",
      "Clump Thickness: 0.00%\n",
      "Uniformity of Cell Size: 0.00%\n",
      "Uniformity of Cell Shape: 0.00%\n",
      "Marginal Adhesion: 0.00%\n",
      "Single Epithelial Cell Size: 0.00%\n",
      "Bare Nuclei: 2.29%\n",
      "Bland Chromatin: 0.00%\n",
      "Normal Nucleoli: 0.00%\n",
      "Mitoses: 0.00%\n",
      "Class: 0.00%\n"
     ]
    }
   ],
   "source": [
    "missing_percentage = data.isnull().sum() * 100 / len(data)\n",
    "for column, percentage in missing_percentage.items():\n",
    "    print(f'{column}: {percentage:.2f}%')"
   ]
  },
  {
   "cell_type": "markdown",
   "metadata": {},
   "source": [
    "### **Working Dataset** "
   ]
  },
  {
   "cell_type": "code",
   "execution_count": 50,
   "metadata": {},
   "outputs": [],
   "source": [
    "dataset = data.dropna()"
   ]
  },
  {
   "cell_type": "code",
   "execution_count": 51,
   "metadata": {},
   "outputs": [
    {
     "name": "stdout",
     "output_type": "stream",
     "text": [
      "<class 'pandas.core.frame.DataFrame'>\n",
      "Index: 683 entries, 0 to 698\n",
      "Data columns (total 11 columns):\n",
      " #   Column                       Non-Null Count  Dtype\n",
      "---  ------                       --------------  -----\n",
      " 0   Sample code number           683 non-null    int64\n",
      " 1   Clump Thickness              683 non-null    int64\n",
      " 2   Uniformity of Cell Size      683 non-null    int64\n",
      " 3   Uniformity of Cell Shape     683 non-null    int64\n",
      " 4   Marginal Adhesion            683 non-null    int64\n",
      " 5   Single Epithelial Cell Size  683 non-null    int64\n",
      " 6   Bare Nuclei                  683 non-null    Int64\n",
      " 7   Bland Chromatin              683 non-null    int64\n",
      " 8   Normal Nucleoli              683 non-null    int64\n",
      " 9   Mitoses                      683 non-null    int64\n",
      " 10  Class                        683 non-null    int64\n",
      "dtypes: Int64(1), int64(10)\n",
      "memory usage: 64.7 KB\n"
     ]
    }
   ],
   "source": [
    "dataset.info()"
   ]
  },
  {
   "cell_type": "code",
   "execution_count": 41,
   "metadata": {},
   "outputs": [],
   "source": [
    "# Converting 'Class' binary category \n",
    "dataset.loc[:, 'Class'] = dataset['Class'].map({2: 0, 4: 1})"
   ]
  },
  {
   "cell_type": "markdown",
   "metadata": {},
   "source": [
    "### **Converting the numerical features to categorical**"
   ]
  },
  {
   "cell_type": "code",
   "execution_count": 43,
   "metadata": {},
   "outputs": [],
   "source": [
    "# Convert to numeric and drop columns with only NaN values\n",
    "for column in headers[1:-1]:  # Excluding the first column as it is an identifier\n",
    "    dataset.loc[:, column] = pd.to_numeric(dataset.loc[:, column], errors='coerce')\n",
    "\n",
    "# Drop columns with only NaN values\n",
    "dataset = dataset.dropna(axis=1, how='all')\n",
    "\n",
    "# Apply pd.cut with duplicates='drop' and explicitly cast to object dtype\n",
    "for column in dataset.columns[1:-1]:  # Excluding the first column as it is an identifier\n",
    "    dataset.loc[:, column] = pd.cut(dataset.loc[:, column], bins=3, labels=[\"Low\", \"Medium\", \"High\"], duplicates='drop').astype(object)\n"
   ]
  },
  {
   "cell_type": "markdown",
   "metadata": {},
   "source": [
    "## **Function for the Chi-Squared test**"
   ]
  },
  {
   "cell_type": "code",
   "execution_count": 52,
   "metadata": {},
   "outputs": [],
   "source": [
    "def chi2_test(var1, var2):\n",
    "    contingency_table = pd.crosstab(dataset[var1], dataset[var2])\n",
    "    chi2, p, dof, expected = chi2_contingency(contingency_table)\n",
    "    return chi2, p"
   ]
  },
  {
   "cell_type": "markdown",
   "metadata": {},
   "source": [
    "### **Applying the Chi-squared test between **Class** and the rest of the categorical features**"
   ]
  },
  {
   "cell_type": "code",
   "execution_count": 53,
   "metadata": {},
   "outputs": [],
   "source": [
    "results = {}\n",
    "for column in headers[1:-1]:  # Excluding the first column as it is an identifier\n",
    "    if column in dataset.columns:\n",
    "        chi2, p = chi2_test('Class', column)\n",
    "        results[column] = {'chi2': chi2, 'p_val': p}\n",
    "    else:\n",
    "        print(f\"Column '{column}' not found in dataset\")"
   ]
  },
  {
   "cell_type": "markdown",
   "metadata": {},
   "source": [
    "### **Results**"
   ]
  },
  {
   "cell_type": "code",
   "execution_count": 54,
   "metadata": {},
   "outputs": [
    {
     "name": "stdout",
     "output_type": "stream",
     "text": [
      "Clump Thickness: chi2 = 378.0816, p_val = 0.0000\n",
      "Uniformity of Cell Size: chi2 = 539.7931, p_val = 0.0000\n",
      "Uniformity of Cell Shape: chi2 = 523.0710, p_val = 0.0000\n",
      "Marginal Adhesion: chi2 = 390.0595, p_val = 0.0000\n",
      "Single Epithelial Cell Size: chi2 = 447.8612, p_val = 0.0000\n",
      "Bare Nuclei: chi2 = 489.0095, p_val = 0.0000\n",
      "Bland Chromatin: chi2 = 453.2097, p_val = 0.0000\n",
      "Normal Nucleoli: chi2 = 416.6306, p_val = 0.0000\n",
      "Mitoses: chi2 = 191.9682, p_val = 0.0000\n"
     ]
    }
   ],
   "source": [
    "for feature, result in results.items():\n",
    "    print(f\"{feature}: chi2 = {result['chi2']:.4f}, p_val = {result['p_val']:.4f}\")"
   ]
  },
  {
   "cell_type": "markdown",
   "metadata": {},
   "source": [
    "## **Interpretation of Chi-Squared Tests**\n",
    "\n",
    "As noticed above, all *p-values* are less than 0.05, indicating a significant association between the target variable (`Class`) and each of the analyzed features. This suggests that these features can be useful in distinguishing between benign and malignant tumors.\n",
    "\n",
    "Moreover, the chi-squared tests provide statistical evidence for including the features as explanatory variables for a binary classification model, such as logistic regression."
   ]
  }
 ],
 "metadata": {
  "kernelspec": {
   "display_name": "eda",
   "language": "python",
   "name": "python3"
  },
  "language_info": {
   "codemirror_mode": {
    "name": "ipython",
    "version": 3
   },
   "file_extension": ".py",
   "mimetype": "text/x-python",
   "name": "python",
   "nbconvert_exporter": "python",
   "pygments_lexer": "ipython3",
   "version": "3.12.5"
  }
 },
 "nbformat": 4,
 "nbformat_minor": 2
}
